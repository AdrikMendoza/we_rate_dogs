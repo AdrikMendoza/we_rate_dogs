{
 "cells": [
  {
   "cell_type": "markdown",
   "metadata": {},
   "source": [
    "# Reporting: wragle_report"
   ]
  },
  {
   "cell_type": "markdown",
   "metadata": {},
   "source": [
    "## Overview\n",
    "WeRateDogs, @dog_rates, a Twitter account that rated dogs pictures with the participation of users with a humorous comment about the dog picture. People rated dogs with a denominator of 10 and a numerator usually above 15 points based on how cute is the dog. \n",
    "\n",
    "The aim of this wrangle report is to communicate the wrangling process on how the data was gathered, assesed and cleaned respectively, solving the certain problems related to data quality issues and data tidiness issues."
   ]
  },
  {
   "cell_type": "markdown",
   "metadata": {},
   "source": [
    "## 1. Data Gathering"
   ]
  },
  {
   "cell_type": "markdown",
   "metadata": {},
   "source": [
    "1. twitter_archive was directly downloaded as a CSV file\n",
    "2. Used the Requests library to download the tweet image prediction (image_predictions.tsv)\n",
    "3. Used the Tweepy library to query additional data via the Twitter API (tweet_json.txt)"
   ]
  },
  {
   "cell_type": "markdown",
   "metadata": {},
   "source": [
    "## 2. Assessing Data"
   ]
  },
  {
   "cell_type": "markdown",
   "metadata": {},
   "source": [
    "#### Quality issues\n",
    "1. Dataframe twitter_archive: rating_numerator has wild rating numerators and might be replaced with 10. \n",
    "2. Dataframe twitter_archive: rating_denominator the rating denominator is 10. \n",
    "3. Dataframe twitter_archive: Extract the correct value for source column. \n",
    "4. Dataframe twitter_archive: Remove Retweets.\n",
    "5. Dataframe twitter_archive: Drop unnecessary columns. Missing values in these columns: in_reply_to_status_id, in_reply_to_user_id, retweeted_status_id, retweeted_status_user_id, retweeted_status_timestamp, expanded_urls.\n",
    "6. Dataframe twitter_archive: Changing the timestamp column to datetime type. \n",
    "7. Dataframe twitter_archive: Change the 'None' value in name column for null values. \n",
    "8. Dataframe image_predictions: Change text in p1, p2, and p3 columns. \n",
    "\n",
    "#### Tidiness issues\n",
    "1. Dataframe twitter_archive: Create a Dog stage column where should be a single column rather than four: doggo, floofer, pupper, puppo.  \n",
    "2. Dataframe tweet_json: Merge all dataframes as twitter_archive_master.  "
   ]
  },
  {
   "cell_type": "markdown",
   "metadata": {},
   "source": [
    "## 3. Cleaning Data"
   ]
  },
  {
   "cell_type": "markdown",
   "metadata": {},
   "source": [
    "### Issue #1: Replaced values. rating_numerator has wild rating numerators and might be replaced with 10. \n",
    "> There is no definitive rule by WeRateDogs to not accept wild rating numerators. In this context, the best alternative is to change the wild rating numerators by the max rating which is 10 points.\n",
    "### Issue #2: Replaced values. rating_denominator the rating denominator is 10. \n",
    "> The rating denominator by WerateDogs has a value of 10 points by default and we proceeded to replace under rated denominators by a value of 10.\n",
    "### Issue #3: Extracted the correct value for source column. \n",
    "> The source column had a lot of text and was not so much understandable. We proceeded to extract the correct text for this column.\n",
    "### Issue #4: Removed Retweets.\n",
    "> We can consider retweets as duplicates. So we removed the retweets rows. \n",
    "### Issue #5: Dropped unnecessary columns. Missing values in these columns: in_reply_to_status_id, in_reply_to_user_id, retweeted_status_id, retweeted_status_user_id, retweeted_status_timestamp, expanded_urls.\n",
    "> These columns had a lot of nulls. The best alternative was removing them because they were not relevant for the analysis.\n",
    "### Issue #6: Changed the timestamp column to datetime type. \n",
    "> We've changed the right data type for the column called timestamp. \n",
    "### Issue #7: Changed the 'None' value in name column for null values.\n",
    "> All 'None' text values were changed by null values. \n",
    "### Issue #8: Changed text in p1, p2, and p3 columns.\n",
    "> All these column has some grammatical errors. We proceeded to fix this.\n",
    "### Issue #9: Created a Dog stage column where should be a single column rather than four: doggo, floofer, pupper, puppo.  \n",
    "> The new column called stage was created in order to contain the extracted text in doggo, floofer, pupper, puppo columns.\n",
    "### Issue #10: Merged all dataframes as twitter_archive_master.  \n",
    "> The observational unit, tweets, is spread across three different datasets. So, these datasets should be merged as they are part of the same observational unit."
   ]
  },
  {
   "cell_type": "markdown",
   "metadata": {},
   "source": [
    "## 3. Storing Data"
   ]
  },
  {
   "cell_type": "markdown",
   "metadata": {},
   "source": [
    "We have saved the gathered, assessed, and cleaned master dataset to a CSV file named \"twitter_archive_master.csv\"."
   ]
  }
 ],
 "metadata": {
  "kernelspec": {
   "display_name": "Python 3 (ipykernel)",
   "language": "python",
   "name": "python3"
  },
  "language_info": {
   "codemirror_mode": {
    "name": "ipython",
    "version": 3
   },
   "file_extension": ".py",
   "mimetype": "text/x-python",
   "name": "python",
   "nbconvert_exporter": "python",
   "pygments_lexer": "ipython3",
   "version": "3.9.7"
  }
 },
 "nbformat": 4,
 "nbformat_minor": 2
}
